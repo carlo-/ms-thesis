{
 "cells": [
  {
   "cell_type": "code",
   "execution_count": 59,
   "metadata": {},
   "outputs": [],
   "source": [
    "import os\n",
    "import pickle\n",
    "import glob\n",
    "from os.path import join, exists\n",
    "from os import listdir\n",
    "from pathlib import Path\n",
    "\n",
    "import numpy as np\n",
    "import tensorflow as tf\n",
    "import pandas as pd\n",
    "import scipy.stats\n",
    "from matplotlib import pyplot as plt\n",
    "from tensorboard.backend.event_processing.event_accumulator import EventAccumulator\n",
    "%matplotlib notebook"
   ]
  },
  {
   "cell_type": "code",
   "execution_count": 160,
   "metadata": {},
   "outputs": [],
   "source": [
    "plt.rcParams['font.family'] = 'sans-serif'\n",
    "plt.rcParams['font.sans-serif'] = 'TeX Gyre Heros'\n",
    "plt.rcParams['pdf.fonttype'] = 42\n",
    "plt.rcParams['ps.fonttype'] = 42\n",
    "plt.rcParams['text.usetex'] = False\n",
    "# import matplotlib.font_manager\n",
    "# matplotlib.font_manager.findSystemFonts(fontpaths=None, fontext='ttf')"
   ]
  },
  {
   "cell_type": "code",
   "execution_count": 129,
   "metadata": {},
   "outputs": [],
   "source": [
    "MS_THESIS_OUT_DIR = \"/home/carlo/KTH/thesis/ms-thesis/out/\"\n",
    "DDPG_FORK_OUT_DIR = \"/home/carlo/KTH/thesis/misc/hindsight-experience-replay/out/\"\n",
    "CACHE_DIR = \"/home/carlo/KTH/thesis/ms-thesis/out/results_viz_cache/\"\n",
    "FIGURES_DIR = \"/home/carlo/KTH/thesis/ms-thesis/figures/\"\n",
    "os.makedirs(CACHE_DIR, exist_ok=True)\n",
    "\n",
    "REMOTE_HOME = \"/run/user/1000/gvfs/sftp:host=mordor.csc.kth.se,port=2222,user=carlora/home/carlora/\"\n",
    "REMOTE_MS_THESIS_OUT_DIR = f\"{REMOTE_HOME}/thesis/repo/out/\"\n",
    "REMOTE_DDPG_FORK_OUT_DIR = f\"{REMOTE_HOME}/thesis/exp/hindsight-experience-replay/out\""
   ]
  },
  {
   "cell_type": "code",
   "execution_count": 126,
   "metadata": {},
   "outputs": [],
   "source": [
    "def read_tensorboard_log(path):\n",
    "    # Loading too much data is slow...\n",
    "    tf_size_guidance = {\n",
    "        'distributions': 1,\n",
    "        'images': 0,\n",
    "        'scalars': 1000,\n",
    "        'histograms': 1,\n",
    "        'tensors': 1000,\n",
    "    }\n",
    "    event_acc = EventAccumulator(path, tf_size_guidance)\n",
    "    event_acc.Reload()\n",
    "    return event_acc\n",
    "\n",
    "def tb_scalar_to_numpy(event_acc, tag_name):\n",
    "    scalar = event_acc.Scalars(tag_name)\n",
    "    return np.array([x[2] for x in scalar])\n",
    "\n",
    "def data_from_tensorboard_log(path):\n",
    "    tf.logging.set_verbosity(tf.logging.ERROR)\n",
    "    event_acc = read_tensorboard_log(path)\n",
    "    scalar_tags = event_acc.Tags()['scalars']\n",
    "    results = {}\n",
    "    for tag in scalar_tags:\n",
    "        results[tag] = tb_scalar_to_numpy(event_acc, tag)\n",
    "    return results\n",
    "\n",
    "def data_from_tensorboard_dir(exp_dir):\n",
    "    results = {}\n",
    "    for sub_dir in listdir(exp_dir):\n",
    "        results[sub_dir] = data_from_tensorboard_log(join(exp_dir, sub_dir))\n",
    "    return results\n",
    "\n",
    "def cache_result(unique_name, data):\n",
    "    with open(f'{CACHE_DIR}/{unique_name}.pkl', 'wb') as f:\n",
    "        pickle.dump(data, f)\n",
    "    globals()[unique_name] = data\n",
    "    return data\n",
    "\n",
    "def get_cached_result(unique_name):\n",
    "    if unique_name in globals():\n",
    "        return globals()[unique_name]\n",
    "    else:\n",
    "        p = Path(f'{CACHE_DIR}/{unique_name}.pkl')\n",
    "        if not p.exists():\n",
    "            return None\n",
    "        with open(p, 'rb') as f:\n",
    "            data = pickle.load(f)\n",
    "        globals()[unique_name] = data\n",
    "        return data"
   ]
  },
  {
   "cell_type": "code",
   "execution_count": 80,
   "metadata": {},
   "outputs": [],
   "source": [
    "def read_sb_ppo2_experiment_data(exp_name, remote=False):\n",
    "    if remote:\n",
    "        exp_dir = f'{REMOTE_MS_THESIS_OUT_DIR}/ppo2/{exp_name}'\n",
    "    else:\n",
    "        exp_dir = f'{MS_THESIS_OUT_DIR}/ppo2/{exp_name}'\n",
    "    results = {}\n",
    "    for sub_dir in listdir(exp_dir):\n",
    "        sub_dir_p = join(exp_dir, sub_dir)\n",
    "        for tb_dir in listdir(sub_dir_p):\n",
    "            if 'tb' not in tb_dir:\n",
    "                continue\n",
    "            results[sub_dir] = data_from_tensorboard_log(join(sub_dir_p, tb_dir))\n",
    "    return results"
   ]
  },
  {
   "cell_type": "code",
   "execution_count": 30,
   "metadata": {},
   "outputs": [],
   "source": [
    "# read_sb_ppo2_experiment_data('fetch_stepped_rew_v3')"
   ]
  },
  {
   "cell_type": "code",
   "execution_count": 81,
   "metadata": {},
   "outputs": [],
   "source": [
    "def read_her_torch_experiment_data(exp_name, remote=False):\n",
    "    if remote:\n",
    "        exp_dir = f'{REMOTE_DDPG_FORK_OUT_DIR}/her_torch/{exp_name}'\n",
    "    else:\n",
    "        exp_dir = f'{DDPG_FORK_OUT_DIR}/her_torch/{exp_name}'\n",
    "    csvs = glob.glob(f'{exp_dir}/*/progress.csv')\n",
    "    results = {}\n",
    "    for c in csvs:\n",
    "        c = Path(c)\n",
    "        results[c.parent.name] = pd.read_csv(c)\n",
    "    return results"
   ]
  },
  {
   "cell_type": "code",
   "execution_count": 76,
   "metadata": {},
   "outputs": [],
   "source": [
    "# read_her_torch_experiment_data('fetch_weighted_her/baseline')"
   ]
  },
  {
   "cell_type": "markdown",
   "metadata": {},
   "source": [
    "# Preliminary Experiments"
   ]
  },
  {
   "cell_type": "markdown",
   "metadata": {},
   "source": [
    "### Fetch (sparse reward) with DDPG+HER"
   ]
  },
  {
   "cell_type": "code",
   "execution_count": 177,
   "metadata": {
    "scrolled": false
   },
   "outputs": [
    {
     "name": "stderr",
     "output_type": "stream",
     "text": [
      "'texgyreheros-regular.otf' can not be subsetted into a Type 3 font. The entire font will be embedded in the output.\n",
      "'texgyreheros-regular.otf' can not be subsetted into a Type 3 font. The entire font will be embedded in the output.\n"
     ]
    }
   ],
   "source": [
    "def _plot():\n",
    "    from datetime import timedelta\n",
    "    import matplotlib.ticker as ticker\n",
    "    \n",
    "    result_id = '_fetch_sparse_ddpg_her_baseline_new_local_res'\n",
    "    data = get_cached_result(result_id)\n",
    "    if data is None:\n",
    "        data = read_her_torch_experiment_data('fetch_weighted_her/baseline_new')\n",
    "        cache_result(result_id, data)\n",
    "    \n",
    "    df = list(data.values())[0]\n",
    "    success_rate = df['test_success_rate'].values\n",
    "    steps_per_epoch = df['env_steps'][0]\n",
    "\n",
    "    fig = plt.figure(figsize=(8,4))\n",
    "    ax1 = fig.gca()\n",
    "    ax1.plot(df['training_iteration'].values, success_rate)\n",
    "    ax1.set_ylabel('Success rate')\n",
    "    ax1.set_xlabel('Epoch ({} env. steps each)'.format(steps_per_epoch))\n",
    "\n",
    "    ax2 = ax1.twiny()\n",
    "    ax2.plot(df['total_time'].values, success_rate).pop(0).remove()\n",
    "\n",
    "    def _format_date(x, pos=None):\n",
    "        return str(timedelta(seconds=x))\n",
    "\n",
    "    ax2.xaxis.set_major_formatter(ticker.FuncFormatter(_format_date))\n",
    "    for tick in ax2.get_xticklabels():\n",
    "        tick.set_rotation(45)\n",
    "        \n",
    "    ax1.grid()\n",
    "\n",
    "_plot()\n",
    "# plt.show()\n",
    "plt.savefig(f'{FIGURES_DIR}/fetch_sparse_her_torch.pdf', bbox_inches='tight')"
   ]
  },
  {
   "cell_type": "markdown",
   "metadata": {},
   "source": [
    "### Fetch (stepped reward) with SB PPO2"
   ]
  },
  {
   "cell_type": "code",
   "execution_count": 188,
   "metadata": {},
   "outputs": [
    {
     "name": "stderr",
     "output_type": "stream",
     "text": [
      "'texgyreheros-regular.otf' can not be subsetted into a Type 3 font. The entire font will be embedded in the output.\n",
      "'texgyreheros-regular.otf' can not be subsetted into a Type 3 font. The entire font will be embedded in the output.\n"
     ]
    }
   ],
   "source": [
    "def _plot():\n",
    "    from datetime import timedelta\n",
    "    import matplotlib.ticker as ticker\n",
    "\n",
    "    result_id = '_fetch_stepped_rew_v3_ppo2_remote_res'\n",
    "    data = get_cached_result(result_id)\n",
    "    if data is None:\n",
    "        data = read_sb_ppo2_experiment_data('fetch_stepped_rew_v3', remote=True)\n",
    "        cache_result(result_id, data)\n",
    "\n",
    "    data_dict = list(data.values())[0]\n",
    "    success_rate = data_dict['custom/original_success_rate']\n",
    "    steps_per_epoch = '?' # data_dict['env_steps'][0]\n",
    "\n",
    "    fig = plt.figure(figsize=(8,4))\n",
    "    ax1 = fig.gca()\n",
    "    ax1.plot(success_rate)\n",
    "    ax1.set_ylabel('Success rate')\n",
    "    ax1.set_xlabel('Epoch ({} env. steps each)'.format(steps_per_epoch))\n",
    "\n",
    "#     ax2 = ax1.twiny()\n",
    "#     ax2.plot(df['total_time'].values, success_rate).pop(0).remove()\n",
    "\n",
    "#     def _format_date(x, pos=None):\n",
    "#         return str(timedelta(seconds=x))\n",
    "\n",
    "#     ax2.xaxis.set_major_formatter(ticker.FuncFormatter(_format_date))\n",
    "#     for tick in ax2.get_xticklabels():\n",
    "#         tick.set_rotation(45)\n",
    "\n",
    "    ax1.grid()\n",
    "\n",
    "_plot()\n",
    "# plt.show()\n",
    "plt.savefig(f'{FIGURES_DIR}/fetch_stepped_sb_ppo2.pdf', bbox_inches='tight')"
   ]
  },
  {
   "cell_type": "code",
   "execution_count": 89,
   "metadata": {},
   "outputs": [
    {
     "data": {
      "text/plain": [
       "dict_keys(['loss/entropy_loss', 'loss/policy_gradient_loss', 'loss/value_function_loss', 'loss/approximate_kullback-leiber', 'loss/clip_factor', 'loss/loss', 'input_info/discounted_rewards', 'input_info/learning_rate', 'input_info/advantage', 'input_info/clip_range', 'input_info/old_neglog_action_probabilty', 'input_info/old_value_pred', 'episode_reward', 'custom/original_episode_reward', 'custom/original_success_rate'])"
      ]
     },
     "execution_count": 89,
     "metadata": {},
     "output_type": "execute_result"
    }
   ],
   "source": [
    "list(_fetch_stepped_rew_v3_ppo2_remote_res.values())[0].keys()"
   ]
  },
  {
   "cell_type": "markdown",
   "metadata": {},
   "source": [
    "## YuMi Constrained (v2) DDPG+HER"
   ]
  },
  {
   "cell_type": "code",
   "execution_count": 184,
   "metadata": {
    "scrolled": false
   },
   "outputs": [
    {
     "name": "stderr",
     "output_type": "stream",
     "text": [
      "'texgyreheros-regular.otf' can not be subsetted into a Type 3 font. The entire font will be embedded in the output.\n"
     ]
    },
    {
     "name": "stdout",
     "output_type": "stream",
     "text": [
      "dict_keys(['2019-05-10_00-30-08', '2019-05-09_10-29-40'])\n"
     ]
    },
    {
     "name": "stderr",
     "output_type": "stream",
     "text": [
      "'texgyreheros-regular.otf' can not be subsetted into a Type 3 font. The entire font will be embedded in the output.\n"
     ]
    }
   ],
   "source": [
    "def _plot():\n",
    "    from datetime import timedelta\n",
    "    import matplotlib.ticker as ticker\n",
    "    \n",
    "    result_id = '_yumi_constr_v2_sparse_ddpg_her_local_res'\n",
    "    data = get_cached_result(result_id)\n",
    "    if data is None:\n",
    "        data = read_her_torch_experiment_data('yumi_constrained_v2')\n",
    "        cache_result(result_id, data)\n",
    "        \n",
    "    print(data.keys())\n",
    "    df = list(data.values())[0]\n",
    "    success_rate = df['test_success_rate'].values\n",
    "    steps_per_epoch = df['env_steps'][0]\n",
    "\n",
    "    fig = plt.figure(figsize=(8,4))\n",
    "    ax1 = fig.gca()\n",
    "    ax1.plot(df['training_iteration'].values, success_rate)\n",
    "    ax1.set_ylabel('Success rate')\n",
    "    ax1.set_xlabel('Epoch ({} env. steps each)'.format(steps_per_epoch))\n",
    "\n",
    "    ax2 = ax1.twiny()\n",
    "    ax2.plot(df['total_time'].values, success_rate).pop(0).remove()\n",
    "\n",
    "    def _format_date(x, pos=None):\n",
    "        return str(timedelta(seconds=x))\n",
    "\n",
    "    ax2.xaxis.set_major_formatter(ticker.FuncFormatter(_format_date))\n",
    "    for tick in ax2.get_xticklabels():\n",
    "        tick.set_rotation(45)\n",
    "        \n",
    "    ax1.grid()\n",
    "\n",
    "_plot()\n",
    "# plt.show()\n",
    "plt.savefig(f'{FIGURES_DIR}/yumi_constr_sparse_her_torch.pdf', bbox_inches='tight')"
   ]
  },
  {
   "cell_type": "code",
   "execution_count": null,
   "metadata": {},
   "outputs": [],
   "source": []
  }
 ],
 "metadata": {
  "kernelspec": {
   "display_name": "thesis_env",
   "language": "python",
   "name": "thesis_env"
  },
  "language_info": {
   "codemirror_mode": {
    "name": "ipython",
    "version": 3
   },
   "file_extension": ".py",
   "mimetype": "text/x-python",
   "name": "python",
   "nbconvert_exporter": "python",
   "pygments_lexer": "ipython3",
   "version": "3.6.6"
  }
 },
 "nbformat": 4,
 "nbformat_minor": 2
}
