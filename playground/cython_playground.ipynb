{
 "cells": [
  {
   "cell_type": "code",
   "execution_count": 2,
   "metadata": {},
   "outputs": [],
   "source": [
    "%load_ext Cython"
   ]
  },
  {
   "cell_type": "code",
   "execution_count": 99,
   "metadata": {},
   "outputs": [],
   "source": [
    "%%cython\n",
    "\n",
    "import numpy as np\n",
    "cimport numpy as np\n",
    "cimport cython\n",
    "\n",
    "DIST_DTYPE = np.float32\n",
    "PATH_DTYPE = np.int\n",
    "\n",
    "ctypedef np.float32_t DIST_DTYPE_t\n",
    "ctypedef np.int_t PATH_DTYPE_t\n",
    "\n",
    "\n",
    "@cython.boundscheck(False) # turn off bounds-checking for entire function\n",
    "@cython.wraparound(False)  # turn off negative index wrapping for entire function\n",
    "def dynamic_time_warping(np.ndarray[DIST_DTYPE_t, ndim=2] precomputed_distances):\n",
    "    assert precomputed_distances.dtype == DIST_DTYPE\n",
    "\n",
    "    cdef int n = precomputed_distances.shape[0]\n",
    "    cdef int m = precomputed_distances.shape[1]\n",
    "    assert n > 1, m > 1\n",
    "\n",
    "    cdef np.ndarray[DIST_DTYPE_t, ndim=2] cost = np.full([n + 1, m + 1], np.inf, dtype=DIST_DTYPE)\n",
    "    cost[0, 0] = 0\n",
    "\n",
    "    cdef DIST_DTYPE_t dist\n",
    "    cdef int i, j\n",
    "    for i in range(1, n + 1):\n",
    "        for j in range(1, m + 1):\n",
    "            dist = precomputed_distances[i-1, j-1]\n",
    "            cost[i, j] = dist + min(cost[i-1, j],\n",
    "                                    cost[i, j-1],\n",
    "                                    cost[i-1, j-1])\n",
    "    cdef np.ndarray[PATH_DTYPE_t, ndim=2] path = compute_path(cost)\n",
    "    return cost[1:, 1:], path\n",
    "\n",
    "\n",
    "@cython.boundscheck(False) # turn off bounds-checking for entire function\n",
    "@cython.wraparound(False)  # turn off negative index wrapping for entire function\n",
    "def compute_path(np.ndarray[DIST_DTYPE_t, ndim=2] cost):\n",
    "\n",
    "    cdef int i = cost.shape[0]\n",
    "    cdef int j = cost.shape[1]\n",
    "\n",
    "    cdef np.ndarray[PATH_DTYPE_t, ndim=2] p = np.zeros([i * j, 2], dtype=PATH_DTYPE)\n",
    "    cdef int p_idx = p.shape[0] - 1\n",
    "\n",
    "    i -= 2\n",
    "    j -= 2\n",
    "\n",
    "    p[p_idx, 0] = i\n",
    "    p[p_idx, 1] = j\n",
    "    p_idx -= 1\n",
    "\n",
    "    cdef int k\n",
    "    while i > 0 or j > 0:\n",
    "        k = np.argmin((cost[i, j], cost[i, j + 1], cost[i + 1, j]))\n",
    "        if k == 0:\n",
    "            i -= 1\n",
    "            j -= 1\n",
    "        elif k == 1:\n",
    "            i -= 1\n",
    "        else:\n",
    "            j -= 1\n",
    "\n",
    "        p[p_idx, 0] = i\n",
    "        p[p_idx, 1] = j\n",
    "        p_idx -= 1\n",
    "\n",
    "    return p[(p_idx + 1):]\n"
   ]
  },
  {
   "cell_type": "code",
   "execution_count": 84,
   "metadata": {},
   "outputs": [],
   "source": [
    "def compute_path_slow(cost: np.ndarray) -> np.ndarray:\n",
    "    # From: https://github.com/pierre-rouanet/dtw/blob/32e710adeb27764c4958fed5c57b6ed24fdc9bdf/dtw/dtw.py#L100\n",
    "\n",
    "    i, j = cost.shape\n",
    "    i -= 2\n",
    "    j -= 2\n",
    "    p, q = [i], [j]\n",
    "\n",
    "    while i > 0 or j > 0:\n",
    "        k = np.argmin((cost[i, j], cost[i, j + 1], cost[i + 1, j]))\n",
    "        if k == 0:\n",
    "            i -= 1\n",
    "            j -= 1\n",
    "        elif k == 1:\n",
    "            i -= 1\n",
    "        else:\n",
    "            j -= 1\n",
    "        p.append(i)\n",
    "        q.append(j)\n",
    "\n",
    "    return np.c_[p[::-1], q[::-1]]\n",
    "\n",
    "\n",
    "def dynamic_time_warping_slow(precomputed_distances: np.ndarray):\n",
    "\n",
    "    n, m = precomputed_distances.shape\n",
    "    assert n > 1, m > 1\n",
    "\n",
    "    cost = np.full((n + 1, m + 1), np.inf)\n",
    "    cost[0, 0] = 0\n",
    "\n",
    "    for i in range(1, n + 1):\n",
    "        for j in range(1, m + 1):\n",
    "            dist = precomputed_distances[i-1, j-1]\n",
    "            cost[i, j] = dist + min(cost[i-1, j],\n",
    "                                    cost[i, j-1],\n",
    "                                    cost[i-1, j-1])\n",
    "    path = compute_path_slow(cost)\n",
    "    return cost[1:, 1:], path"
   ]
  },
  {
   "cell_type": "code",
   "execution_count": null,
   "metadata": {},
   "outputs": [],
   "source": []
  },
  {
   "cell_type": "code",
   "execution_count": 106,
   "metadata": {},
   "outputs": [],
   "source": [
    "the_input = np.random.randn(40,70).astype(np.float32)"
   ]
  },
  {
   "cell_type": "code",
   "execution_count": 107,
   "metadata": {},
   "outputs": [],
   "source": [
    "c1, p1 = dynamic_time_warping(the_input)"
   ]
  },
  {
   "cell_type": "code",
   "execution_count": 108,
   "metadata": {},
   "outputs": [],
   "source": [
    "c2, p2 = dynamic_time_warping_slow(the_input)"
   ]
  },
  {
   "cell_type": "code",
   "execution_count": 109,
   "metadata": {},
   "outputs": [
    {
     "data": {
      "text/plain": [
       "(False, True)"
      ]
     },
     "execution_count": 109,
     "metadata": {},
     "output_type": "execute_result"
    }
   ],
   "source": [
    "np.allclose(c1, c2), np.all(p1 == p2)"
   ]
  },
  {
   "cell_type": "code",
   "execution_count": 113,
   "metadata": {},
   "outputs": [
    {
     "data": {
      "text/plain": [
       "3.040558658540249e-05"
      ]
     },
     "execution_count": 113,
     "metadata": {},
     "output_type": "execute_result"
    }
   ],
   "source": [
    "np.abs(c1-c2).max()"
   ]
  },
  {
   "cell_type": "code",
   "execution_count": 105,
   "metadata": {},
   "outputs": [],
   "source": [
    "large_input = np.random.randn(300,300).astype(np.float32)\n",
    "large_input_cost = dynamic_time_warping(large_input)[0]"
   ]
  },
  {
   "cell_type": "code",
   "execution_count": 92,
   "metadata": {},
   "outputs": [
    {
     "name": "stdout",
     "output_type": "stream",
     "text": [
      "223 ms ± 1.15 ms per loop (mean ± std. dev. of 10 runs, 10 loops each)\n"
     ]
    }
   ],
   "source": [
    "%timeit -n10 -r10 dynamic_time_warping_slow(large_input)"
   ]
  },
  {
   "cell_type": "code",
   "execution_count": 100,
   "metadata": {},
   "outputs": [
    {
     "name": "stdout",
     "output_type": "stream",
     "text": [
      "2.31 ms ± 174 µs per loop (mean ± std. dev. of 10 runs, 10 loops each)\n"
     ]
    }
   ],
   "source": [
    "%timeit -n10 -r10 dynamic_time_warping(large_input)"
   ]
  },
  {
   "cell_type": "code",
   "execution_count": 96,
   "metadata": {},
   "outputs": [
    {
     "name": "stdout",
     "output_type": "stream",
     "text": [
      "1.91 ms ± 161 µs per loop (mean ± std. dev. of 10 runs, 10 loops each)\n"
     ]
    }
   ],
   "source": [
    "%timeit -n10 -r10 compute_path(large_input_cost)"
   ]
  },
  {
   "cell_type": "code",
   "execution_count": 78,
   "metadata": {},
   "outputs": [
    {
     "name": "stdout",
     "output_type": "stream",
     "text": [
      "2.62 ms ± 204 µs per loop (mean ± std. dev. of 100 runs, 10 loops each)\n"
     ]
    }
   ],
   "source": [
    "%timeit -n10 -r100 compute_path_slow(large_input_cost)"
   ]
  },
  {
   "cell_type": "code",
   "execution_count": null,
   "metadata": {},
   "outputs": [],
   "source": []
  }
 ],
 "metadata": {
  "kernelspec": {
   "display_name": "thesis_env",
   "language": "python",
   "name": "thesis_env"
  },
  "language_info": {
   "codemirror_mode": {
    "name": "ipython",
    "version": 3
   },
   "file_extension": ".py",
   "mimetype": "text/x-python",
   "name": "python",
   "nbconvert_exporter": "python",
   "pygments_lexer": "ipython3",
   "version": "3.6.6"
  }
 },
 "nbformat": 4,
 "nbformat_minor": 2
}
